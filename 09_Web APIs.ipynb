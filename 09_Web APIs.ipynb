{
 "cells": [
  {
   "cell_type": "markdown",
   "metadata": {},
   "source": [
    "`Web APIs`\n",
    "\n",
    "- [API](https://www.youtube.com/watch?v=PZPYOiuAZ-w&t=136s)"
   ]
  },
  {
   "cell_type": "markdown",
   "metadata": {},
   "source": [
    "```Text\n",
    "Lesson Outline\n",
    "In this lesson, we'll write Python code that retrieves data from another application via a web API (application programming interfaces). More specifically, we'll learn how to:\n",
    "\n",
    "Use Python requests module to send requests to a web API.\n",
    "Use Python try and except blocks to handle disruptive events (called exceptions).\n",
    "Use a popular data-interchange format called JSON (JavaScript Object Notation) to access data from web APIs.\n",
    "Use Python dictionaries to structure data in key-value pairs.\n",
    "```"
   ]
  },
  {
   "cell_type": "markdown",
   "metadata": {},
   "source": [
    "`Getting the weather`\n",
    "- [Getting the weather API](https://www.youtube.com/watch?v=9YGlbDpWsgI)"
   ]
  },
  {
   "cell_type": "markdown",
   "metadata": {},
   "source": [
    "To start using the \"OpenWeatherMap\" API please follow these steps:\n",
    "\n",
    "[Open this link to start](https://openweathermap.org/price)\n",
    "\n",
    "Scroll down to choose the free plan, and click on the \"Get API key\" under the free plan.\n",
    "\n",
    "Provide a username, email, and password, and create your account.\n",
    "\n",
    "Verify your email address.\n",
    "\n",
    "Within 2 hours, you will receive your API key in the mail, and then you are ready to use this API. This API key will be used in your URL.\n",
    "\n",
    "You can later create more API keys on your account page. Please, always use your API key in each API call.\n",
    "\n",
    "You can see your list of API keys under the menu option My API Keys.\n"
   ]
  },
  {
   "cell_type": "markdown",
   "metadata": {},
   "source": [
    "The unsafe space\n",
    "The reason this happens is because the folks who set the standards for URLs decided the space character is \"unsafe\". Essentially, spaces in URLs can introduce errors and ambiguity, so they're not allowed—and to be helpful, the browser replaces them with a specific code, %20, that is designated for spaces.\n",
    "\n",
    "If you're curious to learn more, you can check out this [Explain Like I'm Five](https://www.reddit.com/r/explainlikeimfive/comments/5itw51/eli5_why_arent_spaces_allowed_in_urls/) post, or even have a look at the [original document](https://datatracker.ietf.org/doc/html/rfc1738) where Tim Berners-Lee (the inventor of the World Wide Web!) laid out the standards for URLs:"
   ]
  },
  {
   "cell_type": "markdown",
   "metadata": {},
   "source": [
    "`The requests module`\n",
    "\n",
    "-[The requests module](https://learn.udacity.com/paid-courses/cd0229/lessons/ls2082/concepts/86f31614-6cb7-49c3-b73e-49312e622da2)"
   ]
  },
  {
   "cell_type": "code",
   "execution_count": 2,
   "metadata": {},
   "outputs": [
    {
     "data": {
      "text/plain": [
       "<Response [200]>"
      ]
     },
     "execution_count": 2,
     "metadata": {},
     "output_type": "execute_result"
    }
   ],
   "source": [
    "import requests\n",
    "\n",
    "r = requests.get('https://api.github.com/events')\n",
    "r"
   ]
  },
  {
   "cell_type": "code",
   "execution_count": 3,
   "metadata": {},
   "outputs": [
    {
     "data": {
      "text/plain": [
       "<Response [404]>"
      ]
     },
     "execution_count": 3,
     "metadata": {},
     "output_type": "execute_result"
    }
   ],
   "source": [
    "r = requests.get('https://api.github.com/eventsblargh')\n",
    "r"
   ]
  },
  {
   "cell_type": "markdown",
   "metadata": {},
   "source": [
    "`Making a request`\n",
    "\n",
    "- [Making a request](https://www.youtube.com/watch?v=1Ouu6aJ1ogE)"
   ]
  },
  {
   "cell_type": "markdown",
   "metadata": {},
   "source": [
    "```Python\n",
    "Python 3.6.3 | packaged by conda-forge | (default, Dec  9 2017, 04:28:46) \n",
    "[GCC 4.8.2 20140120 (Red Hat 4.8.2-15)] on linux\n",
    "Type \"help\", \"copyright\", \"credits\" or \"license\" for more information.\n",
    ">>> import requests\n",
    ">>> r = requests.get('http://localhost:9999/secret')\n",
    ">>> r\n",
    "<Response [200]>\n",
    ">>> r.text\n",
    "'mango'\n",
    ">>>\n",
    "``` "
   ]
  },
  {
   "cell_type": "code",
   "execution_count": null,
   "metadata": {},
   "outputs": [],
   "source": []
  },
  {
   "cell_type": "code",
   "execution_count": null,
   "metadata": {},
   "outputs": [],
   "source": []
  },
  {
   "cell_type": "code",
   "execution_count": null,
   "metadata": {},
   "outputs": [],
   "source": []
  },
  {
   "cell_type": "code",
   "execution_count": null,
   "metadata": {},
   "outputs": [],
   "source": []
  },
  {
   "cell_type": "code",
   "execution_count": null,
   "metadata": {},
   "outputs": [],
   "source": []
  },
  {
   "cell_type": "code",
   "execution_count": null,
   "metadata": {},
   "outputs": [],
   "source": []
  }
 ],
 "metadata": {
  "kernelspec": {
   "display_name": "base",
   "language": "python",
   "name": "python3"
  },
  "language_info": {
   "codemirror_mode": {
    "name": "ipython",
    "version": 3
   },
   "file_extension": ".py",
   "mimetype": "text/x-python",
   "name": "python",
   "nbconvert_exporter": "python",
   "pygments_lexer": "ipython3",
   "version": "3.10.13"
  }
 },
 "nbformat": 4,
 "nbformat_minor": 2
}
