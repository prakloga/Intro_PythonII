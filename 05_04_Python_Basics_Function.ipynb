{
 "cells": [
  {
   "cell_type": "code",
   "execution_count": 1,
   "metadata": {},
   "outputs": [
    {
     "ename": "",
     "evalue": "",
     "output_type": "error",
     "traceback": [
      "\u001b[1;31mThe Kernel crashed while executing code in the the current cell or a previous cell. Please review the code in the cell(s) to identify a possible cause of the failure. Click <a href='https://aka.ms/vscodeJupyterKernelCrash'>here</a> for more info. View Jupyter <a href='command:jupyter.viewOutput'>log</a> for further details."
     ]
    }
   ],
   "source": [
    "import turtle\n",
    "\n",
    "t = turtle.Turtle()\n",
    "t.color(\"cyan\")\n",
    "t.width(5)\n",
    "\n",
    "for n in range(100):\n",
    "    t.forward(n)\n",
    "    t.right(20)"
   ]
  },
  {
   "cell_type": "code",
   "execution_count": 3,
   "metadata": {},
   "outputs": [],
   "source": [
    "import turtle\n",
    "\n",
    "def spiral_func(value):\n",
    "    t=turtle.Turtle()\n",
    "    t.color(\"cyan\")\n",
    "    t.width(5)\n",
    "\n",
    "    for n in range(value):\n",
    "        t.forward(n)\n",
    "        t.right(20)"
   ]
  },
  {
   "cell_type": "code",
   "execution_count": 4,
   "metadata": {},
   "outputs": [
    {
     "ename": "",
     "evalue": "",
     "output_type": "error",
     "traceback": [
      "\u001b[1;31mThe Kernel crashed while executing code in the the current cell or a previous cell. Please review the code in the cell(s) to identify a possible cause of the failure. Click <a href='https://aka.ms/vscodeJupyterKernelCrash'>here</a> for more info. View Jupyter <a href='command:jupyter.viewOutput'>log</a> for further details."
     ]
    }
   ],
   "source": [
    "spiral_func(100)"
   ]
  },
  {
   "cell_type": "code",
   "execution_count": null,
   "metadata": {},
   "outputs": [],
   "source": [
    "import turtle\n",
    "\n",
    "def spiral():\n",
    "    t = turtle.Turtle()\n",
    "    t.color(\"cyan\")\n",
    "    t.width(5)\n",
    "    for n in range(100):\n",
    "        t.forward(n)\n",
    "        t.right(20)\n",
    "\n",
    "spiral()"
   ]
  },
  {
   "cell_type": "markdown",
   "metadata": {},
   "source": [
    "```Text\n",
    "The spiral function we defined above works fine, but it isn't very flexible. It always draws exactly the same spiral every time we call it.\n",
    "\n",
    "We'd like to change the function so we can make a customized spiral each time. Specifically, we want to be able to pass the following arguments to the function:\n",
    "\n",
    "sides – the number of sides in the spiral\n",
    "turn – the amount the turtle rotates at the end of each spiral segment\n",
    "color – the color of the line\n",
    "width – the width of the line\n",
    "```"
   ]
  },
  {
   "cell_type": "code",
   "execution_count": 1,
   "metadata": {},
   "outputs": [],
   "source": [
    "import turtle\n",
    "\n",
    "def spiral(sides, turn, color, width):\n",
    "    t = turtle.Turtle()\n",
    "    t.color(color)\n",
    "    t.width(width)\n",
    "\n",
    "    for n in range(sides):\n",
    "        t.forward(n)\n",
    "        t.right(turn)"
   ]
  },
  {
   "cell_type": "code",
   "execution_count": 2,
   "metadata": {},
   "outputs": [],
   "source": [
    "spiral(50,45,\"blue\",5)"
   ]
  }
 ],
 "metadata": {
  "kernelspec": {
   "display_name": "base",
   "language": "python",
   "name": "python3"
  },
  "language_info": {
   "codemirror_mode": {
    "name": "ipython",
    "version": 3
   },
   "file_extension": ".py",
   "mimetype": "text/x-python",
   "name": "python",
   "nbconvert_exporter": "python",
   "pygments_lexer": "ipython3",
   "version": "3.11.5"
  }
 },
 "nbformat": 4,
 "nbformat_minor": 2
}
