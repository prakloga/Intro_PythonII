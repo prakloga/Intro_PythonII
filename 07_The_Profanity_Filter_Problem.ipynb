{
 "cells": [
  {
   "cell_type": "markdown",
   "metadata": {},
   "source": [
    "`The Profanity Filter Problem`\n",
    "\n",
    "- [Profanity Filter Problem](https://www.youtube.com/watch?v=nBC35OSfiKM&t=72s)"
   ]
  },
  {
   "cell_type": "code",
   "execution_count": 11,
   "metadata": {},
   "outputs": [
    {
     "name": "stdout",
     "output_type": "stream",
     "text": [
      "['a', 'a', 'a', 'a', 'a'] \n",
      "\n",
      "1 \n",
      "\n",
      "['a', 'b', 'a', 'a', 'a'] \n",
      "\n",
      "abaaa \n",
      "\n"
     ]
    }
   ],
   "source": [
    "import random\n",
    "letters = ['a']*5\n",
    "print(letters,'\\n')\n",
    "\n",
    "b_loc = random.randint(0,4)\n",
    "print(b_loc,'\\n')\n",
    "letters[b_loc] = 'b'\n",
    "print(letters,'\\n')\n",
    "\n",
    "letters = \"\".join(letters) # Converts LIST to String\n",
    "print(letters,'\\n')"
   ]
  },
  {
   "cell_type": "markdown",
   "metadata": {},
   "source": [
    "`Generating the string`"
   ]
  },
  {
   "cell_type": "code",
   "execution_count": 16,
   "metadata": {},
   "outputs": [
    {
     "name": "stdout",
     "output_type": "stream",
     "text": [
      "aaaaaaaaaaaaaaaaaaaaaaaaaaaaaaaaaaaaaaaaaaaaaaaaaaabaaaaaaaaaaaaaaaaaaaaaaaaaaaaaaaaaaaaaaaaaaaaaaaa\n"
     ]
    }
   ],
   "source": [
    "# Create a string with 99 a's and one b.\n",
    "# There will always be one b, but it will be at a random position from 0 to 99.\n",
    "import random  # First, we import the random module, which will allow us to generate random numbers\n",
    "letters = ['a'] * 100  # we generate a list of 100 'a' characters\n",
    "b_location = random.randint(0, 99) \n",
    "letters[b_location] = 'b'\n",
    "letters = \"\".join(letters)  # Then we join the characters in the list to create a single string\n",
    "print(letters)\n"
   ]
  },
  {
   "cell_type": "markdown",
   "metadata": {},
   "source": [
    "`Searching the string`"
   ]
  },
  {
   "cell_type": "code",
   "execution_count": 18,
   "metadata": {},
   "outputs": [
    {
     "name": "stdout",
     "output_type": "stream",
     "text": [
      "Looking for 'b' ...\n",
      "Not yet.\n",
      "Not yet.\n",
      "Not yet.\n",
      "Not yet.\n",
      "Not yet.\n",
      "Not yet.\n",
      "Not yet.\n",
      "Not yet.\n",
      "Not yet.\n",
      "Not yet.\n",
      "Not yet.\n",
      "Not yet.\n",
      "Not yet.\n",
      "Not yet.\n",
      "Not yet.\n",
      "Not yet.\n",
      "Not yet.\n",
      "Not yet.\n",
      "Not yet.\n",
      "Not yet.\n",
      "Not yet.\n",
      "Not yet.\n",
      "Not yet.\n",
      "Not yet.\n",
      "Not yet.\n",
      "Not yet.\n",
      "Not yet.\n",
      "Not yet.\n",
      "Not yet.\n",
      "Not yet.\n",
      "Not yet.\n",
      "Not yet.\n",
      "Not yet.\n",
      "Not yet.\n",
      "Not yet.\n",
      "Not yet.\n",
      "Not yet.\n",
      "Not yet.\n",
      "Not yet.\n",
      "Not yet.\n",
      "Not yet.\n",
      "Not yet.\n",
      "Not yet.\n",
      "Not yet.\n",
      "Not yet.\n",
      "Not yet.\n",
      "Not yet.\n",
      "Not yet.\n",
      "Not yet.\n",
      "Not yet.\n",
      "Not yet.\n",
      "Found it! The letter 'b' is at position 51.\n"
     ]
    }
   ],
   "source": [
    "# Search for the letter b in the string.\n",
    "# How many times will this print \"Not yet\" ?\n",
    "print(\"Looking for 'b' ...\")\n",
    "pos = 0 # Start at position 0, the first character in the string\n",
    "while letters[pos] != 'b': # If the current character is NOT 'b', enter the loop.\n",
    "    pos += 1 # Move on to the next character.\n",
    "    print(\"Not yet.\")\n",
    "# If we have exited the loop, that means the current character must be 'b'.\n",
    "print(f\"Found it! The letter 'b' is at position {pos}.\" )"
   ]
  },
  {
   "cell_type": "markdown",
   "metadata": {},
   "source": [
    "`Comparing approaches to the profanity filter problem`\n",
    "\n",
    "- [rude word solution](https://www.youtube.com/watch?v=6hnH_3WaYgI&t=1s)"
   ]
  },
  {
   "cell_type": "markdown",
   "metadata": {},
   "source": [
    "`Opening and reading a file`\n",
    "\n",
    "- [Opening And Reading A File](https://www.youtube.com/watch?v=vxw1UkVVG2s&t=14s)\n",
    "- [Closing a file](https://www.youtube.com/watch?v=-XeSgWp4IDA&t=22s)"
   ]
  },
  {
   "cell_type": "code",
   "execution_count": 19,
   "metadata": {},
   "outputs": [
    {
     "name": "stdout",
     "output_type": "stream",
     "text": [
      "Once upon a time, there was a happy carp.\\nThe carp lived in a big pond.\\nIn the pond there werecrap and frogs.\\n\n"
     ]
    }
   ],
   "source": [
    "with open(\"my_story.txt\",'r') as f:\n",
    "    contents = f.read()\n",
    "    \n",
    "print(contents)"
   ]
  },
  {
   "cell_type": "markdown",
   "metadata": {},
   "source": [
    "`A slow solution`\n",
    "\n",
    "- [Slow Solution](https://www.youtube.com/watch?v=aLxa050TV2s&t=3s)"
   ]
  },
  {
   "cell_type": "code",
   "execution_count": 20,
   "metadata": {},
   "outputs": [
    {
     "name": "stdout",
     "output_type": "stream",
     "text": [
      "Found rude word: crap\n"
     ]
    }
   ],
   "source": [
    "# rude words detector, version 0.1\n",
    "rude_words = [\"crap\", \"darn\", \"heck\", \"jerk\", \"idiot\", \"butt\", \"devil\"]\n",
    "\n",
    "\n",
    "with open(\"my_story.txt\",'r') as myfile:\n",
    "    contents = myfile.read()\n",
    "    rude_count = 0\n",
    "    for rude in rude_words:\n",
    "        if rude in contents:\n",
    "            rude_count += 1\n",
    "            print(f\"Found rude word: {rude}\")\n",
    "\n",
    "\n",
    "if rude_count == 0:\n",
    "    print(\"Congratulations, your file has no rude words.\")\n",
    "    print(\"At least, no rude words I know.\")"
   ]
  },
  {
   "cell_type": "markdown",
   "metadata": {},
   "source": [
    "`One word at a time`\n",
    "\n",
    "- [One word at a time](https://www.youtube.com/watch?v=IO82p2b2bc4)"
   ]
  },
  {
   "cell_type": "code",
   "execution_count": 23,
   "metadata": {},
   "outputs": [
    {
     "name": "stdout",
     "output_type": "stream",
     "text": [
      "['Once', 'upon', 'a', 'time,', 'there', 'was', 'a', 'happy', 'carp.', 'The', 'carp', 'lived', 'in', 'a', 'big', 'pond.', 'In', 'the', 'pond', 'there', 'were', 'crap', 'and', 'frogs.']\n",
      "Found rude word: crap\n"
     ]
    }
   ],
   "source": [
    "# Improvement1: It reads entire file content into memory before do anything else.\n",
    "# rude words detector, version 0.2\n",
    "rude_words = [\"crap\", \"darn\", \"heck\", \"jerk\", \"idiot\", \"butt\", \"devil\"]\n",
    "\n",
    "\n",
    "with open(\"my_story.txt\",'r') as myfile:\n",
    "    contents = myfile.read()\n",
    "    words = contents.split(\" \")\n",
    "    print(words) # debug only\n",
    "    #rude_count = 0\n",
    "    for word in words:\n",
    "        if word in rude_words:\n",
    "            rude_count += 1\n",
    "            print(f\"Found rude word: {word}\")\n",
    "\n",
    "\n",
    "if rude_count == 0:\n",
    "    print(\"Congratulations, your file has no rude words.\")\n",
    "    print(\"At least, no rude words I know.\")"
   ]
  },
  {
   "cell_type": "code",
   "execution_count": 26,
   "metadata": {},
   "outputs": [
    {
     "name": "stdout",
     "output_type": "stream",
     "text": [
      "Found rude word: crap\n"
     ]
    }
   ],
   "source": [
    "# Improvement2: Consume one line at a time from file\n",
    "# rude words detector, version 0.3\n",
    "rude_words = [\"crap\", \"darn\", \"heck\", \"jerk\", \"idiot\", \"butt\", \"devil\"]\n",
    "\n",
    "\n",
    "with open(\"my_story.txt\",'r') as myfile:\n",
    "    rude_count = 0\n",
    "    for line in myfile:\n",
    "        words = line.split(\" \")\n",
    "        for word in words:\n",
    "            if word in rude_words:\n",
    "                rude_count += 1\n",
    "                print(f\"Found rude word: {word}\")\n",
    "\n",
    "if rude_count ==0:\n",
    "    print(\"Congratulations, your file has no rude words.\")\n",
    "    print(\"At least, no rude words I know.\")"
   ]
  },
  {
   "cell_type": "code",
   "execution_count": 28,
   "metadata": {},
   "outputs": [],
   "source": [
    "# Improvement2: Refactor the code to function \n",
    "# rude words detector, version 0.4\n",
    "rude_words = [\"crap\", \"darn\", \"heck\", \"jerk\", \"idiot\", \"butt\", \"devil\"]\n",
    "\n",
    "def check_line(line):\n",
    "    rude_count = 0\n",
    "    words = line.split(\" \")\n",
    "    for word in words:\n",
    "        if word in rude_words:\n",
    "            rude_count += 1\n",
    "            print(f\"Found rude word: {word}\")\n",
    "    return rude_count\n",
    "\n",
    "def check_file(filename):\n",
    "    with open(filename,'r') as myfile:\n",
    "        rude_count = 0\n",
    "        for line in myfile:\n",
    "            rude_count += check_line(line)\n",
    "\n",
    "    if rude_count ==0:\n",
    "        print(\"Congratulations, your file has no rude words.\")\n",
    "        print(\"At least, no rude words I know.\")"
   ]
  },
  {
   "cell_type": "code",
   "execution_count": 29,
   "metadata": {},
   "outputs": [
    {
     "name": "stdout",
     "output_type": "stream",
     "text": [
      "Found rude word: crap\n"
     ]
    }
   ],
   "source": [
    "check_file(\"my_story.txt\")"
   ]
  },
  {
   "cell_type": "code",
   "execution_count": null,
   "metadata": {},
   "outputs": [],
   "source": [
    "#Their splution\n",
    "rude_words = [\"crap\", \"darn\", \"heck\", \"jerk\", \"idiot\", \"butt\", \"devil\"]\n",
    "\n",
    "def check_line(line):\n",
    "    rude_count = 0\n",
    "    words = line.split(\" \")\n",
    "    for word in words:\n",
    "        if word in rude_words:\n",
    "            rude_count += 1\n",
    "            print(f\"Found rude word: {word}\")\n",
    "    return rude_count\n",
    "\n",
    "def check_file(filename):\n",
    "    with open(filename) as myfile:\n",
    "        rude_count = 0\n",
    "        for line in myfile:\n",
    "            rude_count += check_line(line)\n",
    "\n",
    "    if rude_count == 0:\n",
    "        print(\"Congratulations, your file has no rude words.\")\n",
    "        print(\"At least, no rude words I know.\")\n",
    "        \n",
    "if __name__ == '__main__':\n",
    "    check_file(\"my_story.txt\")"
   ]
  },
  {
   "cell_type": "markdown",
   "metadata": {},
   "source": [
    "`Fixing some bugs`\n",
    "\n",
    "```Text\n",
    "The code for the profanity filter is in the workspace below. But it turns out there's a problem with it. We've added another text file to the workspace, my_other_story.txt. Edit the check_file function call to check this file and see what happens!\n",
    "```"
   ]
  },
  {
   "cell_type": "code",
   "execution_count": 31,
   "metadata": {},
   "outputs": [],
   "source": [
    "rude_words = [\"crap\", \"darn\", \"heck\", \"jerk\", \"idiot\", \"butt\", \"devil\"]\n",
    "\n",
    "def check_line(line):\n",
    "    rude_count = 0\n",
    "    words = line.split(\" \")\n",
    "    for word in words:\n",
    "        if word in rude_words:\n",
    "            rude_count += 1\n",
    "            print(f\"Found rude word: {word}\")\n",
    "    return rude_count\n",
    "\n",
    "def check_file(filename):\n",
    "    with open(filename,'r') as myfile:\n",
    "        rude_count = 0\n",
    "        for line in myfile:\n",
    "            rude_count += check_line(line)\n",
    "\n",
    "    if rude_count ==0:\n",
    "        print(\"Congratulations, your file has no rude words.\")\n",
    "        print(\"At least, no rude words I know.\")"
   ]
  },
  {
   "cell_type": "code",
   "execution_count": 32,
   "metadata": {},
   "outputs": [
    {
     "name": "stdout",
     "output_type": "stream",
     "text": [
      "Congratulations, your file has no rude words.\n",
      "At least, no rude words I know.\n"
     ]
    }
   ],
   "source": [
    "# It did not deduct the rude word\n",
    "check_file(\"my_other_story.txt\")"
   ]
  },
  {
   "cell_type": "code",
   "execution_count": 35,
   "metadata": {},
   "outputs": [],
   "source": [
    "rude_words = [\"crap\", \"darn\", \"heck\", \"jerk\", \"idiot\", \"butt\", \"devil\"]\n",
    "\n",
    "def check_line(line):\n",
    "    rude_count = 0\n",
    "    words = line.split(\" \")\n",
    "    for word in words:\n",
    "        print(\"word: \", word.strip(',!.'))  # debug only\n",
    "        if word in rude_words:\n",
    "            rude_count += 1\n",
    "            print(f\"Found rude word: {word}\")\n",
    "    return rude_count\n",
    "\n",
    "def check_file(filename):\n",
    "    with open(filename,'r') as myfile:\n",
    "        rude_count = 0\n",
    "        for line in myfile:\n",
    "            rude_count += check_line(line)\n",
    "\n",
    "    if rude_count ==0:\n",
    "        print(\"Congratulations, your file has no rude words.\")\n",
    "        print(\"At least, no rude words I know.\")"
   ]
  },
  {
   "cell_type": "code",
   "execution_count": 36,
   "metadata": {},
   "outputs": [
    {
     "name": "stdout",
     "output_type": "stream",
     "text": [
      "word:  Well\n",
      "word:  darn\n",
      "word:  This\n",
      "word:  wasn't\n",
      "word:  supposed\n",
      "word:  to\n",
      "word:  happen\n",
      "word:  Now\n",
      "word:  I\n",
      "word:  feel\n",
      "word:  like\n",
      "word:  a\n",
      "word:  jerk\n",
      "word:  Darn\n",
      "word:  it\n",
      "word:  all\n",
      "word:  to\n",
      "word:  Heck\n",
      "Congratulations, your file has no rude words.\n",
      "At least, no rude words I know.\n"
     ]
    }
   ],
   "source": [
    "check_file(\"my_other_story.txt\")"
   ]
  },
  {
   "cell_type": "markdown",
   "metadata": {},
   "source": [
    "- Have a look in the Python Documentation on string methods and see if you can figure out which of the following is the string method that can be used to remove punctuation from strings.\n",
    "\n",
    "    1.split\n",
    "    2.strip\n",
    "    3.join\n",
    "    4.replace"
   ]
  },
  {
   "cell_type": "code",
   "execution_count": 39,
   "metadata": {},
   "outputs": [],
   "source": [
    "rude_words = [\"crap\", \"darn\", \"heck\", \"jerk\", \"idiot\", \"butt\", \"devil\"]\n",
    "\n",
    "def check_line(line):\n",
    "    rude_count = 0\n",
    "    words = line.split(\" \")\n",
    "    for word in words:\n",
    "        #print(\"word: \", word)  # debug only\n",
    "        if word.strip(',!.').lower() in rude_words:\n",
    "            rude_count += 1\n",
    "            print(f\"Found rude word: {word}\")\n",
    "    return rude_count\n",
    "\n",
    "def check_file(filename):\n",
    "    with open(filename,'r') as myfile:\n",
    "        rude_count = 0\n",
    "        for line in myfile:\n",
    "            rude_count += check_line(line)\n",
    "\n",
    "    if rude_count ==0:\n",
    "        print(\"Congratulations, your file has no rude words.\")\n",
    "        print(\"At least, no rude words I know.\")"
   ]
  },
  {
   "cell_type": "markdown",
   "metadata": {},
   "source": [
    "- [Fixing The Capitalization Bug](https://www.youtube.com/watch?v=wn4RVpzIyo8&t=1s)"
   ]
  },
  {
   "cell_type": "code",
   "execution_count": 40,
   "metadata": {},
   "outputs": [
    {
     "name": "stdout",
     "output_type": "stream",
     "text": [
      "Found rude word: darn!\n",
      "Found rude word: jerk.\n",
      "Found rude word: Darn\n",
      "Found rude word: Heck!\n"
     ]
    }
   ],
   "source": [
    "\n",
    "check_file(\"my_other_story.txt\")"
   ]
  },
  {
   "cell_type": "code",
   "execution_count": 43,
   "metadata": {},
   "outputs": [
    {
     "data": {
      "text/plain": [
       "'!\"#$%&\\'()*+,-./:;<=>?@[\\\\]^_`{|}~'"
      ]
     },
     "execution_count": 43,
     "metadata": {},
     "output_type": "execute_result"
    }
   ],
   "source": [
    "import string\n",
    "\n",
    "string.punctuation"
   ]
  },
  {
   "cell_type": "code",
   "execution_count": 41,
   "metadata": {},
   "outputs": [],
   "source": [
    "import string\n",
    "\n",
    "\n",
    "rude_words = [\"crap\", \"darn\", \"heck\", \"jerk\", \"idiot\", \"butt\", \"devil\"]\n",
    "\n",
    "def check_line(line):\n",
    "    rude_count = 0\n",
    "    words = line.split(\" \")\n",
    "    for word in words:\n",
    "        word = word.strip(string.punctuation).lower()\n",
    "        if word in rude_words:\n",
    "            rude_count += 1\n",
    "            print(f\"Found rude word: {word}\")\n",
    "    return rude_count\n",
    "\n",
    "def check_file(filename):\n",
    "    with open(filename,'r') as myfile:\n",
    "        rude_count = 0\n",
    "        for line in myfile:\n",
    "            rude_count += check_line(line)\n",
    "\n",
    "    if rude_count ==0:\n",
    "        print(\"Congratulations, your file has no rude words.\")\n",
    "        print(\"At least, no rude words I know.\")"
   ]
  },
  {
   "cell_type": "code",
   "execution_count": 42,
   "metadata": {},
   "outputs": [
    {
     "name": "stdout",
     "output_type": "stream",
     "text": [
      "Found rude word: darn\n",
      "Found rude word: jerk\n",
      "Found rude word: darn\n",
      "Found rude word: heck\n"
     ]
    }
   ],
   "source": [
    "check_file(\"my_other_story.txt\")"
   ]
  },
  {
   "cell_type": "markdown",
   "metadata": {},
   "source": []
  },
  {
   "cell_type": "code",
   "execution_count": null,
   "metadata": {},
   "outputs": [],
   "source": []
  },
  {
   "cell_type": "code",
   "execution_count": null,
   "metadata": {},
   "outputs": [],
   "source": []
  },
  {
   "cell_type": "code",
   "execution_count": null,
   "metadata": {},
   "outputs": [],
   "source": []
  },
  {
   "cell_type": "code",
   "execution_count": null,
   "metadata": {},
   "outputs": [],
   "source": []
  },
  {
   "cell_type": "code",
   "execution_count": null,
   "metadata": {},
   "outputs": [],
   "source": []
  }
 ],
 "metadata": {
  "kernelspec": {
   "display_name": "base",
   "language": "python",
   "name": "python3"
  },
  "language_info": {
   "codemirror_mode": {
    "name": "ipython",
    "version": 3
   },
   "file_extension": ".py",
   "mimetype": "text/x-python",
   "name": "python",
   "nbconvert_exporter": "python",
   "pygments_lexer": "ipython3",
   "version": "3.11.5"
  }
 },
 "nbformat": 4,
 "nbformat_minor": 2
}
